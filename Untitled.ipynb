{
 "cells": [
  {
   "cell_type": "markdown",
   "metadata": {},
   "source": [
    "\n",
    "    The amount a person will spend on a given site in the next 24 months.\n",
    "    What color car someone is going to buy.\n",
    "    How many children a family will have.\n",
    "    If someone will sign up for a service.\n",
    "    The number of times someone will get sick in a year.\n",
    "    The probability someone will get sick in the next month.\n",
    "    Which medicine will work best for a given patient.\n"
   ]
  },
  {
   "cell_type": "markdown",
   "metadata": {},
   "source": [
    "1) The amount a person will spend on a given site in the next 24 months.  \n",
    "Regression, both input (time on a site) and output (spend) are continuous data.  \n",
    "2) What color car someone is going to buy.   \n",
    "Classification, output is discrete and possibly input as well (person, or quality or a person).  \n",
    "3)  How many children a family will have.   \n",
    "Regression, output is continuous (real numbers) and possibly input (families or quality of families).   \n",
    "4) If someone will sign up for a service.   \n",
    "Classification, output is discrete and input is possibly discrete.  \n",
    "5)  The number of times someone will get sick in a year.   \n",
    "Regression, output is continuous (amount per year).   \n",
    "6) The probability someone will get sick in the next month.  \n",
    "Regression, output is continuous (between 0 and 1).  \n",
    "7)  Which medicine will work best for a given patient.   \n",
    "Could go both ways. If output is continuous, such as blood pressure, cholesterol levels, etc., then regression.  If output is discrete,such are cure / no cure, then classification.  "
   ]
  },
  {
   "cell_type": "code",
   "execution_count": null,
   "metadata": {},
   "outputs": [],
   "source": []
  }
 ],
 "metadata": {
  "kernelspec": {
   "display_name": "Python 3",
   "language": "python",
   "name": "python3"
  },
  "language_info": {
   "codemirror_mode": {
    "name": "ipython",
    "version": 3
   },
   "file_extension": ".py",
   "mimetype": "text/x-python",
   "name": "python",
   "nbconvert_exporter": "python",
   "pygments_lexer": "ipython3",
   "version": "3.7.0"
  },
  "toc": {
   "base_numbering": 1,
   "nav_menu": {},
   "number_sections": true,
   "sideBar": true,
   "skip_h1_title": true,
   "title_cell": "",
   "title_sidebar": "Contents",
   "toc_cell": false,
   "toc_position": {},
   "toc_section_display": true,
   "toc_window_display": true
  }
 },
 "nbformat": 4,
 "nbformat_minor": 2
}
